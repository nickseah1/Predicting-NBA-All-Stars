{
 "cells": [
  {
   "cell_type": "code",
   "execution_count": 1,
   "metadata": {},
   "outputs": [],
   "source": [
    "import pandas as pd\n",
    "import matplotlib.pyplot as plt\n",
    "import numpy as np\n",
    "import sklearn\n",
    "import seaborn as sns\n",
    "plt.style.use('classic')\n"
   ]
  },
  {
   "cell_type": "markdown",
   "metadata": {},
   "source": [
    "# Predicting NBA All Stars"
   ]
  },
  {
   "cell_type": "code",
   "execution_count": 2,
   "metadata": {},
   "outputs": [],
   "source": [
    "# Load in the Data\n",
    "df = pd.read_csv('stats.csv',header = 1).drop(['RANK'],axis = 1)\n",
    "df.columns = ['Name','Team','Position','Age','GP','MPG','MIN%','USG%','TO%','FTA','FT%','2PA','2P%','3PA','3P%','eFG%','TS%','PPG','RPG','TRB%','APG','AST%','SPG','BPG','TOPG','VI','ORTG','DRTG']"
   ]
  },
  {
   "cell_type": "code",
   "execution_count": 3,
   "metadata": {},
   "outputs": [],
   "source": [
    "df.sort_values(['PPG','APG'],ascending= False)\n",
    "df.dropna(subset = ['ORTG','DRTG','eFG%','TO%','TS%'], inplace = True)"
   ]
  },
  {
   "cell_type": "code",
   "execution_count": 4,
   "metadata": {},
   "outputs": [],
   "source": [
    "# List with all stars\n",
    "all_stars =['Kevin Durant','Bradley Beal','Kyrie Irving','Kawhi Leonard','Jayson Tatum','Zion Williamson','Mike Conley','James Harden','Zach LaVine','Donovan Mitchell','Julius Randle','Nikola Vucevic','Devin Booker','Anthony Davis','Joel Embiid','LeBron James','Giannis Antetokounmpo','Stephen Curry','Luka Doncic','Nikola Jokic','Jaylen Brown','Paul George','Rudy Gobert','Damian Lillard','Domantas Sabonis','Chris Paul','Ben Simmons']\n",
    "# Creating an All star Column\n",
    "df['Allstar'] = df.apply(lambda x: x['Name'] in all_stars, axis = 1)\n",
    "# Encoding target column, 1 = all star 0 = not\n",
    "df['Allstar'] = df['Allstar'].astype(int)"
   ]
  },
  {
   "cell_type": "markdown",
   "metadata": {},
   "source": [
    "# According to Mathletics the \n",
    "    \n",
    "    4 Factors for Team offense are:\n",
    "    * Effective Field Goal Percentage\n",
    "    * Turnovers Committed per Possession \n",
    "    * Offensive Rebounding Percentage\n",
    "    * Free Throw Rate\n",
    "    4 Factors for Team Defense are:\n",
    "    * Opponent's Effective Field Goal Percentage\n",
    "    * Defensive Turnovers Cause per Possession\n",
    "    * Defensive Rebounding Percentage\n",
    "    * Openent's Free Throw Rate"
   ]
  },
  {
   "cell_type": "markdown",
   "metadata": {},
   "source": [
    "# Free Throw percentage = Free Throws Made/Free Throws Attempted\n",
    "\n",
    "# Free Throw Rate = Free Throws Made/Field Goal Attempts\n",
    "\n",
    "# Field Goal Attempts = 2PA + 3PA"
   ]
  },
  {
   "cell_type": "code",
   "execution_count": 5,
   "metadata": {},
   "outputs": [],
   "source": [
    "# Creating Field Goal Attempts, Free Throws Made, and Free Throw Rate Statistics. We will use FTR as a feature!\n",
    "df['FGA'] = df['2PA'] + df['3PA']\n",
    "df['FTM'] = (df['FT%']*df['FTA']).astype(int)\n",
    "df['FTR'] = df['FTM']/df['FGA']"
   ]
  },
  {
   "cell_type": "code",
   "execution_count": 6,
   "metadata": {},
   "outputs": [],
   "source": [
    "from sklearn.model_selection import train_test_split\n",
    "\n",
    "# Initial Guess at most important features\n",
    "X = df[['PPG','RPG','APG','eFG%','FTR','ORTG','DRTG']]\n",
    "# Target Column is all star since that is what we want to predict\n",
    "y = df['Allstar']\n",
    "\n",
    "X_train, X_test, y_train, y_test = train_test_split(X,y, random_state = 42,test_size = 0.3)\n"
   ]
  },
  {
   "cell_type": "markdown",
   "metadata": {},
   "source": [
    "# We will implement a Random Forest Algorithm, Decision Tree Algorithm, and Naive Bayes Algorithm and select the model with the highest accuracy"
   ]
  },
  {
   "cell_type": "code",
   "execution_count": 7,
   "metadata": {},
   "outputs": [
    {
     "name": "stdout",
     "output_type": "stream",
     "text": [
      "Accuracy: 0.9710982658959537\n"
     ]
    }
   ],
   "source": [
    "# Random Forest Algorithm\n",
    "from sklearn.ensemble import RandomForestClassifier\n",
    "from sklearn import metrics\n",
    "\n",
    "\n",
    "clf=RandomForestClassifier(n_estimators=1000,random_state = 40)\n",
    "clf.fit(X_train,y_train)\n",
    "y_pred=clf.predict(X_test)\n",
    "\n",
    "\n",
    "print(\"Accuracy:\", metrics.accuracy_score(y_test,y_pred))"
   ]
  },
  {
   "cell_type": "code",
   "execution_count": 8,
   "metadata": {},
   "outputs": [
    {
     "name": "stdout",
     "output_type": "stream",
     "text": [
      "Accuracy: 0.9479768786127167\n"
     ]
    }
   ],
   "source": [
    "# Naive Bayes\n",
    "from sklearn.naive_bayes import GaussianNB\n",
    "\n",
    "model = GaussianNB()\n",
    "model.fit(X_train,y_train)\n",
    "y_pred = model.predict(X_test)\n",
    "\n",
    "print(\"Accuracy:\", metrics.accuracy_score(y_test,y_pred))"
   ]
  },
  {
   "cell_type": "code",
   "execution_count": 9,
   "metadata": {},
   "outputs": [
    {
     "name": "stdout",
     "output_type": "stream",
     "text": [
      "Accuracy: 0.9595375722543352\n"
     ]
    }
   ],
   "source": [
    "# Decision Tree\n",
    "from sklearn.tree import DecisionTreeClassifier\n",
    "\n",
    "DTC = DecisionTreeClassifier(random_state = 40)\n",
    "DTC.fit(X_train,y_train)\n",
    "y_pred = DTC.predict(X_test)\n",
    "\n",
    "print(\"Accuracy:\", metrics.accuracy_score(y_test,y_pred))"
   ]
  },
  {
   "cell_type": "markdown",
   "metadata": {},
   "source": [
    "# The Random Forest Model performs the best with 97% Accuracy!"
   ]
  },
  {
   "cell_type": "code",
   "execution_count": 10,
   "metadata": {},
   "outputs": [],
   "source": [
    "# Plot Feature Function to plot the most important features!\n",
    "def plot_feature_importance(importance, names, model_type,topfeatures):\n",
    "    \n",
    "    # Arrays from feature importance and feature naes\n",
    "    feature_importance = np.array(importance)\n",
    "    feature_names = np.array(names)\n",
    "\n",
    "    # Create a DF using a dictionary\n",
    "\n",
    "    data = {'feature_names': feature_names, 'feature_importance': feature_importance}\n",
    "    FI_df = pd.DataFrame(data)\n",
    "\n",
    "    # Sort DF in terms of feature importance\n",
    "    FI_df.sort_values(by = ['feature_importance'], ascending = False, inplace = True)\n",
    "    \n",
    "    # Font \n",
    "    font = {'fontname': 'Georgia'}\n",
    "    \n",
    "    \n",
    "    \n",
    "    #Plot Feature Importance Bar Chart\n",
    "    plt.figure(figsize = (5,5))\n",
    "    sns.barplot(x = FI_df['feature_importance'][:topfeatures], y = FI_df['feature_names'][:topfeatures])\n",
    "\n",
    "    \n",
    "    plt.title(model_type + ' Feature Importance',**font,fontsize = 20,fontweight=\"bold\")\n",
    "    plt.xlabel('Feature Importance',**font,fontsize = 15,fontweight=\"bold\")\n",
    "    plt.ylabel('Feature Names',**font,fontsize = 15,fontweight=\"bold\")\n",
    "    plt.xticks(**font)\n",
    "    plt.yticks(**font)"
   ]
  },
  {
   "cell_type": "code",
   "execution_count": 11,
   "metadata": {},
   "outputs": [
    {
     "data": {
      "image/png": "[encoded data removed]",
      "text/plain": [
       "<Figure size 400x400 with 1 Axes>"
      ]
     },
     "metadata": {},
     "output_type": "display_data"
    }
   ],
   "source": [
    "plot_feature_importance(clf.feature_importances_, X.columns, 'Random Forest',10)"
   ]
  },
  {
   "cell_type": "code",
   "execution_count": null,
   "metadata": {},
   "outputs": [],
   "source": []
  }
 ],
 "metadata": {
  "kernelspec": {
   "display_name": "Python 3",
   "language": "python",
   "name": "python3"
  },
  "language_info": {
   "codemirror_mode": {
    "name": "ipython",
    "version": 3
   },
   "file_extension": ".py",
   "mimetype": "text/x-python",
   "name": "python",
   "nbconvert_exporter": "python",
   "pygments_lexer": "ipython3",
   "version": "3.8.3"
  }
 },
 "nbformat": 4,
 "nbformat_minor": 4
}
